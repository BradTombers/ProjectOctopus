{
 "cells": [
  {
   "cell_type": "code",
   "execution_count": null,
   "id": "4355ccfe-5b02-46e8-942e-92fb8e76b21c",
   "metadata": {},
   "outputs": [],
   "source": [
    "import duckdb\n",
    "import pandas as pd\n",
    "import os"
   ]
  },
  {
   "cell_type": "code",
   "execution_count": null,
   "id": "4d189b2f-3800-47bb-b8f6-8b4de2994606",
   "metadata": {},
   "outputs": [],
   "source": [
    "DUCKDB_DATABASE = os.path.abspath('../data/staging/data.duckdb')\n",
    "conn = duckdb.connect(DUCKDB_DATABASE)"
   ]
  },
  {
   "cell_type": "code",
   "execution_count": null,
   "id": "979573ca-f9f0-41f6-b1fd-de3a66bf2ed3",
   "metadata": {},
   "outputs": [],
   "source": [
    "query = \"\"\"\n",
    "        show all tables\n",
    "    \"\"\"\n",
    "df = conn.execute(query).fetch_df()\n",
    "df"
   ]
  },
  {
   "cell_type": "code",
   "execution_count": null,
   "id": "9844434f-3e45-4aa2-abaf-b4b61ba76a9b",
   "metadata": {},
   "outputs": [],
   "source": [
    "conn.sql('select * from zones')"
   ]
  },
  {
   "cell_type": "code",
   "execution_count": null,
   "id": "c0a78b4f-6a7d-482f-a187-284b1f5c71c5",
   "metadata": {},
   "outputs": [],
   "source": [
    "query = \"\"\"\n",
    "        select * from zones\n",
    "    \"\"\"\n",
    "df = conn.execute(query).fetch_df()\n",
    "df"
   ]
  },
  {
   "cell_type": "code",
   "execution_count": null,
   "id": "cdcd6904-a546-4de6-aba4-2b6d0bf6ca94",
   "metadata": {},
   "outputs": [],
   "source": [
    "query = \"\"\"\n",
    "        select\n",
    "            *\n",
    "        from trips\n",
    "        order by dropoff_datetime desc \n",
    "    \"\"\"\n",
    "df = conn.execute(query).fetch_df()\n",
    "df.head()"
   ]
  },
  {
   "cell_type": "code",
   "execution_count": null,
   "id": "e919d094-46a9-410d-ac36-eae83939b796",
   "metadata": {},
   "outputs": [],
   "source": [
    "query = \"\"\"\n",
    "        SELECT\n",
    "            DATE_TRUNC('week', CAST(dropoff_datetime AS date) + 1) - 1 AS period,\n",
    "            COUNT(*) AS num_trips,\n",
    "            SUM(COALESCE(passenger_count,0)) AS passenger_count,\n",
    "            SUM(COALESCE(total_amount,0)) AS total_amount,\n",
    "            SUM(COALESCE(trip_distance,0)) AS trip_distance            \n",
    "        FROM trips\n",
    "        GROUP BY 1\n",
    "        ORDER BY 1 \n",
    "    \"\"\"\n",
    "trips_by_zone = conn.execute(query).fetch_df()\n",
    "trips_by_zone.head(100)"
   ]
  },
  {
   "cell_type": "code",
   "execution_count": null,
   "id": "03e7391f-306f-4678-a6e4-a01ec5b8f74a",
   "metadata": {},
   "outputs": [],
   "source": [
    "conn.close()"
   ]
  }
 ],
 "metadata": {
  "kernelspec": {
   "display_name": "Python 3 (ipykernel)",
   "language": "python",
   "name": "python3"
  },
  "language_info": {
   "codemirror_mode": {
    "name": "ipython",
    "version": 3
   },
   "file_extension": ".py",
   "mimetype": "text/x-python",
   "name": "python",
   "nbconvert_exporter": "python",
   "pygments_lexer": "ipython3",
   "version": "3.10.3"
  }
 },
 "nbformat": 4,
 "nbformat_minor": 5
}
